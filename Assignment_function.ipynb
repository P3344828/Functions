{
  "nbformat": 4,
  "nbformat_minor": 0,
  "metadata": {
    "colab": {
      "provenance": []
    },
    "kernelspec": {
      "name": "python3",
      "display_name": "Python 3"
    },
    "language_info": {
      "name": "python"
    }
  },
  "cells": [
    {
      "cell_type": "markdown",
      "source": [
        "**Theory Questions**\n",
        "\n",
        "Note: For each theory questions, give at least one example.\n",
        "\n",
        "1. What is the difference between a function and a method in Python?\n",
        "\n",
        "- In Python, both functions and methods help you organize code into reusable pieces-but they are used a bit differently.\n",
        "\n",
        "- A function is an independent block of reusable code that is defined using the **def** keyword. It is associated with any particular object and can be invoked\n",
        "directly by its name.\n",
        "  - Example:\n",
        "                            def greet(name):\n",
        "                                return f\"Hello, {name}.\"\n",
        "                            \n",
        "                            print(greet(\"Divya\"))  \n",
        "         Output: Hello, Divya.\n",
        "            \n",
        "- A method is a function that is defined within a class and is associated with\n",
        "an object (an instance of the class). The first parameter of most methods is **self**, which refers to the object itself.\n",
        "  - Example:\n",
        "                           class Calculator:\n",
        "                               def add(self, a, b):\n",
        "                                   return a+b\n",
        "\n",
        "                           calc = Calculator()  #creating object\n",
        "                            calc.add(15,13)\n",
        "               Output: 28\n",
        "\n",
        "2. Explain the concept of function arguments and parameters in Python.\n",
        "\n",
        "- Functions are defined using the **def** keyword in Python and can take inputs in the form of parameters. When the function is called, arguments are passed to these parameters.\n",
        "\n",
        "- Parameter: A named variable in the function definition that specifies an expected input.\n",
        "\n",
        "- Argument: A value supplied to a function when it is called, which is assigned to the corresponding parameter.\n",
        "  - Example:\n",
        "             def multiply(a, b): # a and b are parameters\n",
        "                 return a*b\n",
        "\n",
        "             m = multiply(3, 5) # 3 and 5 are arguments\n",
        "             print(m)\n",
        "          Output: 15   \n",
        "\n",
        "3. What are the different ways to define and call a function in Python?\n",
        "\n",
        "- Standard Function:\n",
        "                          def add(a, b):\n",
        "                              return a+b\n",
        "                          add(1, 2)\n",
        "               Output: 3\n",
        "\n",
        "- Default Argument:\n",
        "                       def greet(name = \"Guest\"):\n",
        "                           return f\"Hello, {name}.\"\n",
        "                       print(greet())\n",
        "                       print(greet(\"Divya\"))\n",
        "      \n",
        "       Output: Hello, Guest.\n",
        "              Hello, Divya.\n",
        "\n",
        "- Keyword Argument:\n",
        "                      def customer(name, age):\n",
        "                          return f\"{name} is {age}\"\n",
        "                      customer(age = 22, name = \"Divya\")\n",
        "      Output: 'Divya is 22'\n",
        "\n",
        "- Variable-Length Arguments:\n",
        "    - Positional (*args):\n",
        "                         def total(*nums):\n",
        "                             return sum(nums)\n",
        "                         total(2,3,4)\n",
        "            Output: 9\n",
        "\n",
        "    - Keyword (**kwargs):\n",
        "                         def show(**data):\n",
        "                             return data\n",
        "                         show(name= \"Divya\", age = 22)\n",
        "             Output: {'name': 'Divya', 'age': 22}\n",
        "\n",
        "- Lambda Function:\n",
        "                     square = lambda x: x**2\n",
        "                     square(5)\n",
        "        Output: 25\n",
        "\n",
        "- Recursive Function:\n",
        "                         def fac(n):\n",
        "                             if n ==1:\n",
        "                                return 1\n",
        "                             return n * fac(n-1)\n",
        "                         fac(6)\n",
        "        Output: 720\n",
        "\n",
        "4.  What is the purpose of the 'return' statement in a Python function?\n",
        "\n",
        "- The return statement is used within a function to terminate the function's execution and sends a value back to the caller in Python. This process allows functions to produce and provide output that can be used in other parts of a program\n",
        "\n",
        "- Value specified in the return statement becomes the result of the function call. If no return statement is provide, or if it is written without an accompanying value, the function returns None by default.\n",
        "- Example:\n",
        "                         def area(l, b):  \n",
        "                             return l*b   \n",
        "    \n",
        "                         cal_area = area(4, 3)\n",
        "                         print(cal_area)\n",
        "        Output: 12\n",
        "    \n",
        "5. What are iterators in Python and how do they differ from iterables?\n",
        "\n",
        "- Iterator: It is an object that enables traversal over the elements of a container (like, list or tuple), one element at a time.\n",
        "   - __iter__(), returns the iterator object itself.\n",
        "   - __next__(), returns the next item in the sequence. When there are no more items to return, it raises a StopIteration exception.\n",
        "  - Keeps internal state to track the next item. Can be obtained by calling iter() on an iterable.\n",
        "\n",
        "- Iterable: An iterable is any Python object capable of returning its elements one at a time. Implements the __iter__() method.\n",
        "   - Can be passed to the built-in iter() function to obtain an iterator. Examples: list, tuple, str, dict, and set (built-in-type).\n",
        "\n",
        "- Difference:\n",
        "    - Iterator: Sequential access to elements, __iter__() method, Can be used directly in 'for' loops, Can be reused to create new iterators, and does not maintain iteration state.\n",
        "    - Iterable: Represents a collection of elements,  __iter__() and __next__() methods, Also used in 'for' loops often implicitly via __iter__(), Not reusable once exhausted,and Maintains current iteration state.\n",
        "\n",
        "- Example:             \n",
        "                        my_list = [1,2,3]      # Iterable\n",
        "                        my_iter = iter(my_list)   # it is an iterator\n",
        "                        print(next(my_iter))\n",
        "                        print(next(my_iter))\n",
        "                        print(next(my_iter))\n",
        "                        # print(next(my_iter))   # StopIteration\n",
        "        Output: 1\n",
        "                2\n",
        "                3\n",
        "\n",
        "\n",
        "6. Explain the concept of generators in Python and how they are defined.\n",
        "\n",
        "- A generator is a special type of iterator that allows you to iterate over sequence of values lazily, one at a time, suspending its state between each yield. Generators are defined using functions with the yield keyword, instead of return.\n",
        "\n",
        "-  When the generator function is called, it returns a generator object, which adheres to the iterator protocol (__iter__() and __next__() methods).\n",
        "\n",
        "- Example:                 \n",
        "                           def gen_num(n):\n",
        "                               for i in range(1, n+1):\n",
        "                                   yield i\n",
        "                           n = gen_num(4)\n",
        "                           print(next(n))\n",
        "                           print(next(n))\n",
        "                           print(next(n))\n",
        "                           print(next(n))\n",
        "      Output: 1\n",
        "              2\n",
        "              3\n",
        "              4\n",
        "\n",
        "7. What are the advantages of using generators over regular functions?\n",
        "\n",
        "- Memory efficient: yield values one at a time without storing the entire sequence in memory\n",
        "- Lazy evaluation: Compute values on demand, improving performance for large or infinite data.\n",
        "- Simpler syntax: Eliminate the need to manually implement the iterator protocol.\n",
        "\n",
        "- Example:           \n",
        "           (Regular function):      def squares(n):\n",
        "                                        return [i*i for i in range(n)]\n",
        "          \n",
        "           (using generator):       def gen_squares(n):\n",
        "                                        for i in range(n):\n",
        "                                            yield i * i\n",
        "\n",
        "8. What is a lambda function in Python and when is it typically used?\n",
        "\n",
        "- A lambda function is an anonymous, one-line function defined with the **lambda **keyword, used for short operations.\n",
        "- Common in functional programming with map(), filter(), and sorted(). Preferred when defining a small function inline without naming it.\n",
        "\n",
        "- Example:\n",
        "                          square = lambda x: x**2\n",
        "                          square(4)\n",
        "          Output: 16\n",
        "\n",
        "9. Explain the purpose and usage of the 'map()' function in Python.\n",
        "\n",
        "- The purpose of map() is to apply a specified function to each item in an iterable, producing a new iterable with the transformed results, all without using explicit loops. map() is used to apply a function to each element of an iterable, returning a map object (an iterator) with the results.\n",
        "\n",
        "- Example:\n",
        "                             l = [1, 2, 3, 4]\n",
        "                             squares = map(lambda x: x**2, l)\n",
        "                             list(squares)  \n",
        "          Output: [1, 4, 9, 16]\n",
        "\n",
        "10. What is the difference between 'map()' , 'reduce()' , and 'filter()' functions in Python?\n",
        "\n",
        "- map()\n",
        "  - Apply a function to each item.\n",
        "  - Takes a function and one or more iterables, returns an iterator of transformed items.\n",
        "  - Example:\n",
        "            map(lambda x: x*2, [1,2,3]) -> [2,4,6]\n",
        "- filter()\n",
        "  - Select items meeting a condition.\n",
        "  - Takes a function returning boolean and an iterable, returns an iterator of filtered items.\n",
        "  - Example:\n",
        "            filter(lambda x: x%2==0, [1,2,3]) -> [2]\n",
        "- reduce()\n",
        "   - Aggregate items to a single value.\n",
        "   - Takes a function and an iterable, returns a single aggregated value. (Requires **functools.reduce**)\n",
        "   - Example:\n",
        "             reduce(lambda a,b: a+b, [1,2,3]) -> 6\n",
        "\n",
        "11. Using pen & paper write the internal mechanism for sum operation using reduce function on this given list:[47,11,42,13];\n",
        " (Attach paper image for this answer) in doc or colab notebook.\n",
        "\n",
        "\n"
      ],
      "metadata": {
        "id": "0virATawSb_t"
      }
    },
    {
      "cell_type": "code",
      "source": [
        "from google.colab import files\n",
        "uploaded = files.upload()\n",
        "\n",
        "from IPython.display import Image\n",
        "Image('Answer 11.jpg')\n"
      ],
      "metadata": {
        "colab": {
          "base_uri": "https://localhost:8080/",
          "height": 1000
        },
        "id": "K1rxeX3qpeZg",
        "outputId": "6236b8f3-6aa4-4f52-f0f0-bf7fac6f6c35"
      },
      "execution_count": 83,
      "outputs": [
        {
          "output_type": "display_data",
          "data": {
            "text/plain": [
              "<IPython.core.display.HTML object>"
            ],
            "text/html": [
              "\n",
              "     <input type=\"file\" id=\"files-4a890736-9487-4be0-9795-c227ec7f2d28\" name=\"files[]\" multiple disabled\n",
              "        style=\"border:none\" />\n",
              "     <output id=\"result-4a890736-9487-4be0-9795-c227ec7f2d28\">\n",
              "      Upload widget is only available when the cell has been executed in the\n",
              "      current browser session. Please rerun this cell to enable.\n",
              "      </output>\n",
              "      <script>// Copyright 2017 Google LLC\n",
              "//\n",
              "// Licensed under the Apache License, Version 2.0 (the \"License\");\n",
              "// you may not use this file except in compliance with the License.\n",
              "// You may obtain a copy of the License at\n",
              "//\n",
              "//      http://www.apache.org/licenses/LICENSE-2.0\n",
              "//\n",
              "// Unless required by applicable law or agreed to in writing, software\n",
              "// distributed under the License is distributed on an \"AS IS\" BASIS,\n",
              "// WITHOUT WARRANTIES OR CONDITIONS OF ANY KIND, either express or implied.\n",
              "// See the License for the specific language governing permissions and\n",
              "// limitations under the License.\n",
              "\n",
              "/**\n",
              " * @fileoverview Helpers for google.colab Python module.\n",
              " */\n",
              "(function(scope) {\n",
              "function span(text, styleAttributes = {}) {\n",
              "  const element = document.createElement('span');\n",
              "  element.textContent = text;\n",
              "  for (const key of Object.keys(styleAttributes)) {\n",
              "    element.style[key] = styleAttributes[key];\n",
              "  }\n",
              "  return element;\n",
              "}\n",
              "\n",
              "// Max number of bytes which will be uploaded at a time.\n",
              "const MAX_PAYLOAD_SIZE = 100 * 1024;\n",
              "\n",
              "function _uploadFiles(inputId, outputId) {\n",
              "  const steps = uploadFilesStep(inputId, outputId);\n",
              "  const outputElement = document.getElementById(outputId);\n",
              "  // Cache steps on the outputElement to make it available for the next call\n",
              "  // to uploadFilesContinue from Python.\n",
              "  outputElement.steps = steps;\n",
              "\n",
              "  return _uploadFilesContinue(outputId);\n",
              "}\n",
              "\n",
              "// This is roughly an async generator (not supported in the browser yet),\n",
              "// where there are multiple asynchronous steps and the Python side is going\n",
              "// to poll for completion of each step.\n",
              "// This uses a Promise to block the python side on completion of each step,\n",
              "// then passes the result of the previous step as the input to the next step.\n",
              "function _uploadFilesContinue(outputId) {\n",
              "  const outputElement = document.getElementById(outputId);\n",
              "  const steps = outputElement.steps;\n",
              "\n",
              "  const next = steps.next(outputElement.lastPromiseValue);\n",
              "  return Promise.resolve(next.value.promise).then((value) => {\n",
              "    // Cache the last promise value to make it available to the next\n",
              "    // step of the generator.\n",
              "    outputElement.lastPromiseValue = value;\n",
              "    return next.value.response;\n",
              "  });\n",
              "}\n",
              "\n",
              "/**\n",
              " * Generator function which is called between each async step of the upload\n",
              " * process.\n",
              " * @param {string} inputId Element ID of the input file picker element.\n",
              " * @param {string} outputId Element ID of the output display.\n",
              " * @return {!Iterable<!Object>} Iterable of next steps.\n",
              " */\n",
              "function* uploadFilesStep(inputId, outputId) {\n",
              "  const inputElement = document.getElementById(inputId);\n",
              "  inputElement.disabled = false;\n",
              "\n",
              "  const outputElement = document.getElementById(outputId);\n",
              "  outputElement.innerHTML = '';\n",
              "\n",
              "  const pickedPromise = new Promise((resolve) => {\n",
              "    inputElement.addEventListener('change', (e) => {\n",
              "      resolve(e.target.files);\n",
              "    });\n",
              "  });\n",
              "\n",
              "  const cancel = document.createElement('button');\n",
              "  inputElement.parentElement.appendChild(cancel);\n",
              "  cancel.textContent = 'Cancel upload';\n",
              "  const cancelPromise = new Promise((resolve) => {\n",
              "    cancel.onclick = () => {\n",
              "      resolve(null);\n",
              "    };\n",
              "  });\n",
              "\n",
              "  // Wait for the user to pick the files.\n",
              "  const files = yield {\n",
              "    promise: Promise.race([pickedPromise, cancelPromise]),\n",
              "    response: {\n",
              "      action: 'starting',\n",
              "    }\n",
              "  };\n",
              "\n",
              "  cancel.remove();\n",
              "\n",
              "  // Disable the input element since further picks are not allowed.\n",
              "  inputElement.disabled = true;\n",
              "\n",
              "  if (!files) {\n",
              "    return {\n",
              "      response: {\n",
              "        action: 'complete',\n",
              "      }\n",
              "    };\n",
              "  }\n",
              "\n",
              "  for (const file of files) {\n",
              "    const li = document.createElement('li');\n",
              "    li.append(span(file.name, {fontWeight: 'bold'}));\n",
              "    li.append(span(\n",
              "        `(${file.type || 'n/a'}) - ${file.size} bytes, ` +\n",
              "        `last modified: ${\n",
              "            file.lastModifiedDate ? file.lastModifiedDate.toLocaleDateString() :\n",
              "                                    'n/a'} - `));\n",
              "    const percent = span('0% done');\n",
              "    li.appendChild(percent);\n",
              "\n",
              "    outputElement.appendChild(li);\n",
              "\n",
              "    const fileDataPromise = new Promise((resolve) => {\n",
              "      const reader = new FileReader();\n",
              "      reader.onload = (e) => {\n",
              "        resolve(e.target.result);\n",
              "      };\n",
              "      reader.readAsArrayBuffer(file);\n",
              "    });\n",
              "    // Wait for the data to be ready.\n",
              "    let fileData = yield {\n",
              "      promise: fileDataPromise,\n",
              "      response: {\n",
              "        action: 'continue',\n",
              "      }\n",
              "    };\n",
              "\n",
              "    // Use a chunked sending to avoid message size limits. See b/62115660.\n",
              "    let position = 0;\n",
              "    do {\n",
              "      const length = Math.min(fileData.byteLength - position, MAX_PAYLOAD_SIZE);\n",
              "      const chunk = new Uint8Array(fileData, position, length);\n",
              "      position += length;\n",
              "\n",
              "      const base64 = btoa(String.fromCharCode.apply(null, chunk));\n",
              "      yield {\n",
              "        response: {\n",
              "          action: 'append',\n",
              "          file: file.name,\n",
              "          data: base64,\n",
              "        },\n",
              "      };\n",
              "\n",
              "      let percentDone = fileData.byteLength === 0 ?\n",
              "          100 :\n",
              "          Math.round((position / fileData.byteLength) * 100);\n",
              "      percent.textContent = `${percentDone}% done`;\n",
              "\n",
              "    } while (position < fileData.byteLength);\n",
              "  }\n",
              "\n",
              "  // All done.\n",
              "  yield {\n",
              "    response: {\n",
              "      action: 'complete',\n",
              "    }\n",
              "  };\n",
              "}\n",
              "\n",
              "scope.google = scope.google || {};\n",
              "scope.google.colab = scope.google.colab || {};\n",
              "scope.google.colab._files = {\n",
              "  _uploadFiles,\n",
              "  _uploadFilesContinue,\n",
              "};\n",
              "})(self);\n",
              "</script> "
            ]
          },
          "metadata": {}
        },
        {
          "output_type": "stream",
          "name": "stdout",
          "text": [
            "Saving Answer 11.jpg to Answer 11 (3).jpg\n"
          ]
        },
        {
          "output_type": "execute_result",
          "data": {
            "image/jpeg": "[encoded data removed]",
            "text/plain": [
              "<IPython.core.display.Image object>"
            ]
          },
          "metadata": {},
          "execution_count": 83
        }
      ]
    },
    {
      "cell_type": "code",
      "source": [
        "# Practical Questions:\n",
        "# 1. Write a Python function that takes a list of numbers as input and returns the sum of all even numbers in the list.\n",
        "def sum_of_even(nums):\n",
        "    return sum(x for x in nums if x % 2 == 0)\n",
        "\n",
        "print(sum_of_even([1,2,3,4]))"
      ],
      "metadata": {
        "id": "kYi-HWd5WmHk",
        "colab": {
          "base_uri": "https://localhost:8080/"
        },
        "outputId": "ee4bc015-66e2-4476-8fb5-52568ff6fd17"
      },
      "execution_count": null,
      "outputs": [
        {
          "output_type": "stream",
          "name": "stdout",
          "text": [
            "6\n"
          ]
        }
      ]
    },
    {
      "cell_type": "code",
      "source": [
        "# 2. Create a Python function that accepts a string and returns the reverse of that string.\n",
        "def rev_str(s):\n",
        "    return s[::-1]\n",
        "\n",
        "print(rev_str(\"Divya\"))"
      ],
      "metadata": {
        "id": "9YemfQIBWmKe",
        "colab": {
          "base_uri": "https://localhost:8080/"
        },
        "outputId": "15bc2b9e-b6e8-47c6-b8ea-17f45a80e2e2"
      },
      "execution_count": null,
      "outputs": [
        {
          "output_type": "stream",
          "name": "stdout",
          "text": [
            "ayviD\n"
          ]
        }
      ]
    },
    {
      "cell_type": "code",
      "source": [
        "# 3. Implement a Python function that takes a list of integers and returns a new list containing the squares of each number.\n",
        "def sq_list(nums):\n",
        "    return [x**2 for x in nums]\n",
        "\n",
        "print(sq_list([1,2,3]))"
      ],
      "metadata": {
        "id": "EcPCWIfeWmNR",
        "colab": {
          "base_uri": "https://localhost:8080/"
        },
        "outputId": "221c74bf-3c2f-45dc-9dd2-d42f08491bcc"
      },
      "execution_count": null,
      "outputs": [
        {
          "output_type": "stream",
          "name": "stdout",
          "text": [
            "[1, 4, 9]\n"
          ]
        }
      ]
    },
    {
      "cell_type": "code",
      "source": [
        "# 4. Write a Python function that checks if a given number is prime or not from 1 to 200.\n",
        "def prime(n):\n",
        "    return n>1 and len(list(filter(lambda x: n % x == 0, range(2, n)))) == 0\n",
        "for i in range(1, 201):\n",
        "    if prime(i):\n",
        "        print(i, \"is prime\")"
      ],
      "metadata": {
        "id": "b6-iNxg4WmPu",
        "colab": {
          "base_uri": "https://localhost:8080/"
        },
        "outputId": "dd6c6fc2-fba8-4f65-d304-e29a7ba5b8bc"
      },
      "execution_count": null,
      "outputs": [
        {
          "output_type": "stream",
          "name": "stdout",
          "text": [
            "2 is prime\n",
            "3 is prime\n",
            "5 is prime\n",
            "7 is prime\n",
            "11 is prime\n",
            "13 is prime\n",
            "17 is prime\n",
            "19 is prime\n",
            "23 is prime\n",
            "29 is prime\n",
            "31 is prime\n",
            "37 is prime\n",
            "41 is prime\n",
            "43 is prime\n",
            "47 is prime\n",
            "53 is prime\n",
            "59 is prime\n",
            "61 is prime\n",
            "67 is prime\n",
            "71 is prime\n",
            "73 is prime\n",
            "79 is prime\n",
            "83 is prime\n",
            "89 is prime\n",
            "97 is prime\n",
            "101 is prime\n",
            "103 is prime\n",
            "107 is prime\n",
            "109 is prime\n",
            "113 is prime\n",
            "127 is prime\n",
            "131 is prime\n",
            "137 is prime\n",
            "139 is prime\n",
            "149 is prime\n",
            "151 is prime\n",
            "157 is prime\n",
            "163 is prime\n",
            "167 is prime\n",
            "173 is prime\n",
            "179 is prime\n",
            "181 is prime\n",
            "191 is prime\n",
            "193 is prime\n",
            "197 is prime\n",
            "199 is prime\n"
          ]
        }
      ]
    },
    {
      "cell_type": "code",
      "source": [
        "# 5. Create an iterator class in Python that generates the Fibonacci sequence up to a specified number of terms.\n",
        "class Fibo:\n",
        "    def __init__(self, n):\n",
        "        self.n = n\n",
        "        self.count = 0\n",
        "        self.a, self.b = 0, 1\n",
        "\n",
        "    def __iter__(self):\n",
        "        return self\n",
        "\n",
        "    def __next__(self):\n",
        "        if self.count >= self.n:\n",
        "            raise StopIteration\n",
        "        if self.count == 0:\n",
        "            self.count += 1\n",
        "            return 0\n",
        "        elif self.count == 1:\n",
        "            self.count += 1\n",
        "            return 1\n",
        "        else:\n",
        "            self.a, self.b = self.b, self.a + self.b\n",
        "            self.count += 1\n",
        "            return self.a\n",
        "\n",
        "fib = Fibo(10)\n",
        "for num in fib:\n",
        "    print(num)"
      ],
      "metadata": {
        "id": "ugwyeOKjWmSA",
        "colab": {
          "base_uri": "https://localhost:8080/"
        },
        "outputId": "d54e8d01-2271-4436-9348-75ec8405cfb5"
      },
      "execution_count": null,
      "outputs": [
        {
          "output_type": "stream",
          "name": "stdout",
          "text": [
            "0\n",
            "1\n",
            "1\n",
            "1\n",
            "2\n",
            "3\n",
            "5\n",
            "8\n",
            "13\n",
            "21\n"
          ]
        }
      ]
    },
    {
      "cell_type": "code",
      "source": [
        "# 6. Write a generator function in Python that yields the powers of 2 up to a given exponent.\n",
        "def Powers_two(n):\n",
        "    for i in range(n+1):\n",
        "        yield 2 ** i\n",
        "\n",
        "for power in Powers_two(5):\n",
        "            print(power)"
      ],
      "metadata": {
        "id": "WN8o_i7AWmUH",
        "colab": {
          "base_uri": "https://localhost:8080/"
        },
        "outputId": "42287997-5c74-4823-8c79-cb772c3373ee"
      },
      "execution_count": null,
      "outputs": [
        {
          "output_type": "stream",
          "name": "stdout",
          "text": [
            "1\n",
            "2\n",
            "4\n",
            "8\n",
            "16\n",
            "32\n"
          ]
        }
      ]
    },
    {
      "cell_type": "code",
      "source": [
        "# 7. Implement a generator function that reads a file line by line and yields each line as a string.\n",
        "def read_file(filename):\n",
        "    with open(filename, 'r') as file:\n",
        "        for line in file:\n",
        "            yield line.rstrip('\\n')"
      ],
      "metadata": {
        "id": "AmKLRT4YZqV8"
      },
      "execution_count": null,
      "outputs": []
    },
    {
      "cell_type": "code",
      "source": [
        "# 8. Use a lambda function in Python to sort a list of tuples based on the second element of each tuple.\n",
        "\n",
        "data = [(1, 3), (4, 1), (2, 2)]\n",
        "sorted_data = sorted(data, key=lambda x: x[1])\n",
        "print(sorted_data)\n",
        "\n",
        "\n",
        "\n"
      ],
      "metadata": {
        "id": "GgVLmAjpZqhY",
        "colab": {
          "base_uri": "https://localhost:8080/"
        },
        "outputId": "4fbeb2c9-83e9-47b1-b8bd-66a759c1d8f5"
      },
      "execution_count": null,
      "outputs": [
        {
          "output_type": "stream",
          "name": "stdout",
          "text": [
            "[(4, 1), (2, 2), (1, 3)]\n"
          ]
        }
      ]
    },
    {
      "cell_type": "code",
      "source": [
        "# 9. Write a Python program that uses 'map()' to convert a list of tempreatures from Celsius to Fahrenheit.\n",
        "\n",
        "# Celsius to Fahrenheit: (C × 9/5) + 32\n",
        "cel = [0, 10, 37, 100]\n",
        "f = list(map(lambda c: (c * 9/5) + 32, cel))\n",
        "print(f)\n"
      ],
      "metadata": {
        "id": "PFK5gV6xZqsE",
        "colab": {
          "base_uri": "https://localhost:8080/"
        },
        "outputId": "88459962-8117-4db6-b0c5-9875a79934b9"
      },
      "execution_count": null,
      "outputs": [
        {
          "output_type": "stream",
          "name": "stdout",
          "text": [
            "[32.0, 50.0, 98.6, 212.0]\n"
          ]
        }
      ]
    },
    {
      "cell_type": "code",
      "source": [
        "# 10. Create a Python program that uses 'filter()' to remove all the vowels from a given string.\n",
        "def remove_vow(text):\n",
        "    vowels = \"aeiouAEIOU\"\n",
        "    return ''.join(filter(lambda ch: ch not in vowels, text))\n",
        "s = \"Welcome, Divya!\"\n",
        "print(remove_vow(s))\n"
      ],
      "metadata": {
        "id": "bCJp9MbnZq0J",
        "colab": {
          "base_uri": "https://localhost:8080/"
        },
        "outputId": "e31780c2-77ab-4022-a16f-6396d718f6e8"
      },
      "execution_count": null,
      "outputs": [
        {
          "output_type": "stream",
          "name": "stdout",
          "text": [
            "Wlcm, Dvy!\n"
          ]
        }
      ]
    },
    {
      "cell_type": "code",
      "source": [
        "# 11. Imagine an accounting  routine used in a book shop. It works on a list with sublists, which look like this:\n",
        "# Order Number  Book Title and Author                 Quantity   Price per ItemsView\n",
        "# 34587         Learning Python, Mark Lutz                4             40.95\n",
        "# 98762         Programming Python, Mark Lutz             5             56.80\n",
        "# 77226         Head First Python, Paul Barry             3             32.95\n",
        "# 88112         Einfuhrung in Python3, Bernd Klein        3             24.99\n",
        "# Write a Python program, which returns a list with 2-tuples.\n",
        "# Each tuple consists of the order number and the product of the price per item and the quantity.\n",
        "# The product should be increased by 10,- € if the value of the order is smaller thn 100,00 €.\n",
        "# Write a Python program using lambda and map.\n"
      ],
      "metadata": {
        "id": "cGEt5iK1Zq7-"
      },
      "execution_count": null,
      "outputs": []
    },
    {
      "cell_type": "code",
      "source": [
        "# Book orders: [Order Number, Book Title, Quantity, Price per Item]\n",
        "Book_orders = [\n",
        "    [34587, \"Learning Python, Mark Lutz\", 4, 40.95],\n",
        "    [98762, \"Programming Python, Mark Lutz\", 5, 56.80],\n",
        "    [77226, \"Head First Python, Paul Barry\", 3, 32.95],\n",
        "    [88112, \"Einfuhrung in Python3, Bernd Klein\", 3, 24.99]\n",
        "]\n",
        "\n",
        "# Using of map and lambda to compute (2-tuples)\n",
        "Total = list(map( lambda order: ( order[0],\n",
        "        round(order[2] * order[3] + (10 if order[2] * order[3] < 100 else 0), 2)\n",
        "        ),Book_orders))\n",
        "\n",
        "print(Total)\n"
      ],
      "metadata": {
        "colab": {
          "base_uri": "https://localhost:8080/"
        },
        "id": "HNo7vICKi1UN",
        "outputId": "99b0544b-2d24-4871-b7d5-ab7e9b7a1bc3"
      },
      "execution_count": null,
      "outputs": [
        {
          "output_type": "stream",
          "name": "stdout",
          "text": [
            "[(34587, 163.8), (98762, 284.0), (77226, 108.85), (88112, 84.97)]\n"
          ]
        }
      ]
    }
  ]
}